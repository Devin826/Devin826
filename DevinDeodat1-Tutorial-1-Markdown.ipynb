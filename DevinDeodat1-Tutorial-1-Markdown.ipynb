{
  "nbformat": 4,
  "nbformat_minor": 0,
  "metadata": {
    "colab": {
      "name": "Interactive-Tutorial-1-Markdown.ipynb",
      "provenance": [],
      "include_colab_link": true
    },
    "kernelspec": {
      "name": "python3",
      "display_name": "Python 3"
    }
  },
  "cells": [
    {
      "cell_type": "markdown",
      "metadata": {
        "id": "view-in-github",
        "colab_type": "text"
      },
      "source": [
        "<a href=\"https://colab.research.google.com/github/Devin826/Devin826/blob/main/DevinDeodat1-Tutorial-1-Markdown.ipynb\" target=\"_parent\"><img src=\"https://colab.research.google.com/assets/colab-badge.svg\" alt=\"Open In Colab\"/></a>"
      ]
    },
    {
      "cell_type": "markdown",
      "metadata": {
        "id": "EdZzk4449ehn"
      },
      "source": [
        "# Interactive Tutorial 1: Markdown\n",
        "\n",
        "Let's get started with writing Markdown! **Double click each text cell to add your answer.** Remember to refer back to the [Markdown Basics](https://aguaclara.github.io/aguaclara_tutorial/markdown/markdown-basics.html) page of the AguaClara Tutorial Wiki if you need help.\n"
      ]
    },
    {
      "cell_type": "markdown",
      "metadata": {
        "id": "mrSlVoNf2NGj"
      },
      "source": [
        "## Basic Text\n",
        "\n",
        "Write two sentences about yourself, each in a different paragraph.\n",
        "\n",
        "<!--- Write your answer here. --->\n",
        "My name is Devin Deodat \n",
        "\n",
        "I am a senior at NJIT"
      ]
    },
    {
      "cell_type": "markdown",
      "metadata": {
        "id": "yhNA80Oo2QAZ"
      },
      "source": [
        "## Headers\n",
        "\n",
        "Make a 3rd level header with your name:\n",
        "\n",
        "<!--- Write your answer here. --->\n",
        "### Devin Deodat"
      ]
    },
    {
      "cell_type": "markdown",
      "metadata": {
        "id": "McWxuO302S4D"
      },
      "source": [
        "## Emphasis\n",
        "\n",
        "Write 4 of your favorite words using each type of emphasis:\n",
        "\n",
        "<!--- Write your answer here. --->\n",
        "*pizza*\n",
        "**parking** \n",
        "***computer***\n",
        "~~plane~~\n"
      ]
    },
    {
      "cell_type": "markdown",
      "metadata": {
        "id": "eUkU-d9P2VLQ"
      },
      "source": [
        "## Lists\n",
        "\n",
        "Make an ordered list of 3 things you hope to achieve this semester, and elaborate on them with sub items. Then, make an unordered list of 3 classes that you're taking this semester:\n",
        "\n",
        "<!--- Write your answer here. --->\n",
        "1. Pass all my classes \n",
        "    1. Hopefully all A's \n",
        "2. Learn during Research \n",
        "    2. Contributte to the groups work \n",
        "3. Have a good spring break \n",
        "    3. Go somewhere fun \n",
        "- Hydraullic Engineering \n",
        "- Senior Seminar \n",
        "- Highway Design "
      ]
    },
    {
      "cell_type": "markdown",
      "metadata": {
        "id": "I5zJwwkX2XpQ"
      },
      "source": [
        "## Links\n",
        "\n",
        "Write a sentence describing your major, and insert a link to your major's department website:\n",
        "\n",
        "<!--- Write your answer here. --->\n",
        "[Civil Engineering is very tough but rewarding](http://aguaclara.cornell.edu). "
      ]
    },
    {
      "cell_type": "markdown",
      "metadata": {
        "id": "LW_KbicC2ZdX"
      },
      "source": [
        "## Images\n",
        "\n",
        "Insert the image with the URL https://raw.githubusercontent.com/AguaClara/aguaclara_tutorial/master/images/Cornell_University_seal.png using\n",
        "  1. the `![display text](URL)` format\n",
        "  2. the HTML format, with adjusted dimensions and/or text alignment\n",
        "\n",
        "<!--- Write your answer here. --->\n",
        "!(https://raw.githubusercontent.com/AguaClara/aguaclara_tutorial/master/images/Cornell_University_seal.png)"
      ]
    },
    {
      "cell_type": "markdown",
      "metadata": {
        "id": "n0O7zDwq2beT"
      },
      "source": [
        "## Code Formatting\n",
        "\n",
        "Put the name of this file in an in-line code format. Hint: use a single backtick (`).\n",
        "\n",
        "<!-- Write your answer here. -->\n",
        "`Interactive-Tutorial-1-Markdown.ipynb`"
      ]
    },
    {
      "cell_type": "markdown",
      "metadata": {
        "id": "-Ofi86rN2dlT"
      },
      "source": [
        "## Tables\n",
        "\n",
        "Create a table listing your 3 favorite animals, books, and places on campus. Use a different alignment for each column.\n",
        "\n",
        "<!--- Write your answer here. --->\n",
        "| Animals | Books | Places |\n",
        "| --- | :---: | ---: |\n",
        "| Tiger | Diary of a Wimpy Kid | Food Truck | \n",
        "| Dogs | Percy Jackson | CE Lab | \n",
        "| Lizard | The Cat in the Hat | Parking Deck |   "
      ]
    },
    {
      "cell_type": "markdown",
      "metadata": {
        "id": "EwV1a5Oe2flq"
      },
      "source": [
        "## Blockquotes\n",
        "\n",
        "Write your favorite quote. It must be attributed to Albert Einstein.\n",
        "\n",
        "<!-- Write your answer here. -->\n",
        "> “Everyone is a genius. But if you judge a fish by its ability to climb a tree, it will live its whole life believing that it is stupid.” "
      ]
    },
    {
      "cell_type": "markdown",
      "metadata": {
        "id": "3W-oC3DZ2hiJ"
      },
      "source": [
        "## Horizontal Rules\n",
        "\n",
        "Add a horizontal rule:\n",
        "\n",
        "<!-- Write your answer here. -->\n",
        "--- "
      ]
    },
    {
      "cell_type": "markdown",
      "metadata": {
        "id": "ISkgUuT-2mF2"
      },
      "source": [
        "## LaTeX Formatting\n",
        "\n",
        "Copy the equation towards the end of the [Markdown tutorial](https://github.com/AguaClara/aguaclara_tutorial/wiki/Markdown#latex-formatting) and paste it here:\n",
        "\n",
        "<!-- Write your answer here. -->\n",
        "$$ a^2 + b^2 = c^2 $$"
      ]
    }
  ]
}